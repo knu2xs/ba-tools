{
 "cells": [
  {
   "cell_type": "code",
   "execution_count": 13,
   "metadata": {},
   "outputs": [],
   "source": [
    "import os\n",
    "from pathlib import Path\n",
    "import sys\n",
    "\n",
    "from arcgis import GeoAccessor\n",
    "from arcgis.geometry import Geometry\n",
    "import numpy as np\n",
    "import pandas as pd\n",
    "import pytest\n",
    "\n",
    "# facilitate local resource imports\n",
    "project_dir_str = Path(os.path.abspath(os.path.join(os.path.dirname('.'), '..')))\n",
    "src_dir_str = project_dir_str/'src'\n",
    "sys.path.insert(0, str(src_dir_str))\n",
    "from ba_tools import preprocessing, data, utils, analysis\n",
    "\n",
    "data_dir = Path(os.path.abspath('../test_data'))\n",
    "gdb = data_dir/'test_data.gdb'\n",
    "\n",
    "block_groups = gdb/'block_groups'\n",
    "block_group_id_field = 'ID'\n",
    "\n",
    "brand_locs = gdb/'locations_brand'\n",
    "brand_id_field = 'LOCNUM'\n",
    "\n",
    "comp_locs = gdb/'locations_competition'\n",
    "comp_id_field = 'LOCNUM'\n",
    "\n",
    "origin_demographics_csv = data_dir/'origin_demographics.csv'\n",
    "nearest_brand_csv = data_dir/'nearest_locations.csv'\n",
    "\n",
    "scratch_dir = data_dir/'scratch'"
   ]
  },
  {
   "cell_type": "code",
   "execution_count": 14,
   "metadata": {},
   "outputs": [
    {
     "data": {
      "text/html": [
       "<div>\n",
       "<style scoped>\n",
       "    .dataframe tbody tr th:only-of-type {\n",
       "        vertical-align: middle;\n",
       "    }\n",
       "\n",
       "    .dataframe tbody tr th {\n",
       "        vertical-align: top;\n",
       "    }\n",
       "\n",
       "    .dataframe thead th {\n",
       "        text-align: right;\n",
       "    }\n",
       "</style>\n",
       "<table border=\"1\" class=\"dataframe\">\n",
       "  <thead>\n",
       "    <tr style=\"text-align: right;\">\n",
       "      <th></th>\n",
       "      <th>OBJECTID</th>\n",
       "      <th>ID</th>\n",
       "      <th>NAME</th>\n",
       "      <th>SHAPE</th>\n",
       "    </tr>\n",
       "  </thead>\n",
       "  <tbody>\n",
       "    <tr>\n",
       "      <th>0</th>\n",
       "      <td>1</td>\n",
       "      <td>410050203021</td>\n",
       "      <td>410050203.021</td>\n",
       "      <td>{'rings': [[[-122.73197000048197, 45.419039999...</td>\n",
       "    </tr>\n",
       "    <tr>\n",
       "      <th>1</th>\n",
       "      <td>2</td>\n",
       "      <td>410050203022</td>\n",
       "      <td>410050203.022</td>\n",
       "      <td>{'rings': [[[-122.7261700003964, 45.4069199995...</td>\n",
       "    </tr>\n",
       "    <tr>\n",
       "      <th>2</th>\n",
       "      <td>3</td>\n",
       "      <td>410050203041</td>\n",
       "      <td>410050203.041</td>\n",
       "      <td>{'rings': [[[-122.7333599995352, 45.4332000000...</td>\n",
       "    </tr>\n",
       "    <tr>\n",
       "      <th>3</th>\n",
       "      <td>4</td>\n",
       "      <td>410050203042</td>\n",
       "      <td>410050203.042</td>\n",
       "      <td>{'rings': [[[-122.7255400001061, 45.4331699999...</td>\n",
       "    </tr>\n",
       "    <tr>\n",
       "      <th>4</th>\n",
       "      <td>5</td>\n",
       "      <td>410050203043</td>\n",
       "      <td>410050203.043</td>\n",
       "      <td>{'rings': [[[-122.72570999972407, 45.426009999...</td>\n",
       "    </tr>\n",
       "  </tbody>\n",
       "</table>\n",
       "</div>"
      ],
      "text/plain": [
       "   OBJECTID            ID           NAME  \\\n",
       "0         1  410050203021  410050203.021   \n",
       "1         2  410050203022  410050203.022   \n",
       "2         3  410050203041  410050203.041   \n",
       "3         4  410050203042  410050203.042   \n",
       "4         5  410050203043  410050203.043   \n",
       "\n",
       "                                               SHAPE  \n",
       "0  {'rings': [[[-122.73197000048197, 45.419039999...  \n",
       "1  {'rings': [[[-122.7261700003964, 45.4069199995...  \n",
       "2  {'rings': [[[-122.7333599995352, 45.4332000000...  \n",
       "3  {'rings': [[[-122.7255400001061, 45.4331699999...  \n",
       "4  {'rings': [[[-122.72570999972407, 45.426009999...  "
      ]
     },
     "execution_count": 14,
     "metadata": {},
     "output_type": "execute_result"
    }
   ],
   "source": [
    "block_groups_df = GeoAccessor.from_featureclass(str(block_groups))\n",
    "block_groups_df.head()"
   ]
  },
  {
   "cell_type": "code",
   "execution_count": 16,
   "metadata": {},
   "outputs": [
    {
     "data": {
      "application/vnd.jupyter.widget-view+json": {
       "model_id": "b7b1a61ac1b543b2a0f37db6b5bd30e7",
       "version_major": 2,
       "version_minor": 0
      },
      "text/plain": [
       "MapView(layout=Layout(height='400px', width='100%'))"
      ]
     },
     "metadata": {},
     "output_type": "display_data"
    },
    {
     "data": {
      "text/html": [
       "<div class=\"map-static-img-preview-14756692-ee8b-4be1-8078-4c1ca806977b\"><img src=\"\"></img></div>"
      ],
      "text/plain": [
       "<IPython.core.display.HTML object>"
      ]
     },
     "metadata": {},
     "output_type": "display_data"
    }
   ],
   "source": [
    "block_groups_df.spatial.plot()"
   ]
  },
  {
   "cell_type": "code",
   "execution_count": null,
   "metadata": {},
   "outputs": [],
   "source": []
  }
 ],
 "metadata": {
  "kernelspec": {
   "display_name": "Python 3",
   "language": "python",
   "name": "python3"
  },
  "language_info": {
   "codemirror_mode": {
    "name": "ipython",
    "version": 3
   },
   "file_extension": ".py",
   "mimetype": "text/x-python",
   "name": "python",
   "nbconvert_exporter": "python",
   "pygments_lexer": "ipython3",
   "version": "3.6.8"
  }
 },
 "nbformat": 4,
 "nbformat_minor": 2
}
