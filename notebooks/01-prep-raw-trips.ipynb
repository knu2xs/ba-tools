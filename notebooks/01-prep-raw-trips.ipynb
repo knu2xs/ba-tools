{
 "cells": [
  {
   "cell_type": "code",
   "execution_count": 1,
   "metadata": {},
   "outputs": [],
   "source": [
    "import importlib\n",
    "import os\n",
    "from pathlib import Path\n",
    "import sys\n",
    "\n",
    "from arcgis.features import GeoAccessor, GeoSeriesAccessor\n",
    "from arcgis.gis import GIS\n",
    "from dotenv import load_dotenv, find_dotenv\n",
    "import pandas as pd\n",
    "import swifter\n",
    "\n",
    "# import arcpy if available\n",
    "if importlib.util.find_spec(\"arcpy\") is not None:\n",
    "    import arcpy"
   ]
  },
  {
   "cell_type": "code",
   "execution_count": 2,
   "metadata": {},
   "outputs": [],
   "source": [
    "# load environment variables from .env\n",
    "load_dotenv(find_dotenv())\n",
    "\n",
    "# paths to common data locations - NOTE: to convert any path to a raw string, simply use str(path_instance)\n",
    "project_parent = Path('./').absolute().parent\n",
    "\n",
    "data_dir = project_parent/'data'\n",
    "\n",
    "dir_raw = data_dir/'raw'\n",
    "dir_test = data_dir/'test'\n",
    "dir_int = data_dir/'interim'\n",
    "\n",
    "gdb_int = dir_int/'interim.gdb'\n",
    "\n",
    "# load the \"autoreload\" extension so that code can change, & always reload modules so that as you change code in src, it gets loaded\n",
    "%load_ext autoreload\n",
    "%autoreload 2\n",
    "\n",
    "# import the project package from the project package path\n",
    "sys.path.append(str(project_parent/'src'))\n",
    "import ba_tools"
   ]
  },
  {
   "cell_type": "code",
   "execution_count": 3,
   "metadata": {},
   "outputs": [],
   "source": [
    "raw_trips_tbl = dir_raw/'raw_trips.csv'"
   ]
  },
  {
   "cell_type": "code",
   "execution_count": 23,
   "metadata": {},
   "outputs": [
    {
     "data": {
      "text/html": [
       "<div>\n",
       "<style scoped>\n",
       "    .dataframe tbody tr th:only-of-type {\n",
       "        vertical-align: middle;\n",
       "    }\n",
       "\n",
       "    .dataframe tbody tr th {\n",
       "        vertical-align: top;\n",
       "    }\n",
       "\n",
       "    .dataframe thead th {\n",
       "        text-align: right;\n",
       "    }\n",
       "</style>\n",
       "<table border=\"1\" class=\"dataframe\">\n",
       "  <thead>\n",
       "    <tr style=\"text-align: right;\">\n",
       "      <th></th>\n",
       "      <th>travel_distance_miles</th>\n",
       "      <th>travel_time_minutes</th>\n",
       "      <th>SHAPE</th>\n",
       "      <th>store_locnum</th>\n",
       "    </tr>\n",
       "  </thead>\n",
       "  <tbody>\n",
       "    <tr>\n",
       "      <th>0.0</th>\n",
       "      <td>13.261921</td>\n",
       "      <td>25.033333</td>\n",
       "      <td>{'x': -123.026415, 'y': 44.87728, 'spatialRefe...</td>\n",
       "      <td>413963145</td>\n",
       "    </tr>\n",
       "    <tr>\n",
       "      <th>0.0</th>\n",
       "      <td>8.260506</td>\n",
       "      <td>12.466667</td>\n",
       "      <td>{'x': -123.150157, 'y': 44.933511, 'spatialRef...</td>\n",
       "      <td>244210043</td>\n",
       "    </tr>\n",
       "    <tr>\n",
       "      <th>1.0</th>\n",
       "      <td>2.013863</td>\n",
       "      <td>8.750000</td>\n",
       "      <td>{'x': -123.312642, 'y': 44.929472, 'spatialRef...</td>\n",
       "      <td>244210043</td>\n",
       "    </tr>\n",
       "    <tr>\n",
       "      <th>2.0</th>\n",
       "      <td>0.547428</td>\n",
       "      <td>7.516667</td>\n",
       "      <td>{'x': -123.30801, 'y': 44.9299, 'spatialRefere...</td>\n",
       "      <td>244210043</td>\n",
       "    </tr>\n",
       "    <tr>\n",
       "      <th>3.0</th>\n",
       "      <td>0.133595</td>\n",
       "      <td>3.100000</td>\n",
       "      <td>{'x': -123.315767, 'y': 44.922983, 'spatialRef...</td>\n",
       "      <td>244210043</td>\n",
       "    </tr>\n",
       "  </tbody>\n",
       "</table>\n",
       "</div>"
      ],
      "text/plain": [
       "     travel_distance_miles  travel_time_minutes  \\\n",
       "0.0              13.261921            25.033333   \n",
       "0.0               8.260506            12.466667   \n",
       "1.0               2.013863             8.750000   \n",
       "2.0               0.547428             7.516667   \n",
       "3.0               0.133595             3.100000   \n",
       "\n",
       "                                                 SHAPE  store_locnum  \n",
       "0.0  {'x': -123.026415, 'y': 44.87728, 'spatialRefe...     413963145  \n",
       "0.0  {'x': -123.150157, 'y': 44.933511, 'spatialRef...     244210043  \n",
       "1.0  {'x': -123.312642, 'y': 44.929472, 'spatialRef...     244210043  \n",
       "2.0  {'x': -123.30801, 'y': 44.9299, 'spatialRefere...     244210043  \n",
       "3.0  {'x': -123.315767, 'y': 44.922983, 'spatialRef...     244210043  "
      ]
     },
     "execution_count": 23,
     "metadata": {},
     "output_type": "execute_result"
    }
   ],
   "source": [
    "raw_trips_df = pd.read_csv(raw_trips_tbl, index_col=0)\n",
    "\n",
    "raw_trips_df.head()"
   ]
  },
  {
   "cell_type": "code",
   "execution_count": 24,
   "metadata": {},
   "outputs": [],
   "source": [
    "raw_trips_df.SHAPE = raw_trips_df.SHAPE.apply(lambda val: eval(val))"
   ]
  },
  {
   "cell_type": "code",
   "execution_count": 25,
   "metadata": {},
   "outputs": [],
   "source": [
    "raw_trips_df['coord_x'] = raw_trips_df.SHAPE.apply(lambda val: val['x'])\n",
    "raw_trips_df['coord_y'] = raw_trips_df.SHAPE.apply(lambda val: val['y'])"
   ]
  },
  {
   "cell_type": "code",
   "execution_count": 29,
   "metadata": {},
   "outputs": [
    {
     "data": {
      "text/html": [
       "<div>\n",
       "<style scoped>\n",
       "    .dataframe tbody tr th:only-of-type {\n",
       "        vertical-align: middle;\n",
       "    }\n",
       "\n",
       "    .dataframe tbody tr th {\n",
       "        vertical-align: top;\n",
       "    }\n",
       "\n",
       "    .dataframe thead th {\n",
       "        text-align: right;\n",
       "    }\n",
       "</style>\n",
       "<table border=\"1\" class=\"dataframe\">\n",
       "  <thead>\n",
       "    <tr style=\"text-align: right;\">\n",
       "      <th></th>\n",
       "      <th>index</th>\n",
       "      <th>travel_distance_miles</th>\n",
       "      <th>travel_time_minutes</th>\n",
       "      <th>store_locnum</th>\n",
       "      <th>coord_x</th>\n",
       "      <th>coord_y</th>\n",
       "    </tr>\n",
       "  </thead>\n",
       "  <tbody>\n",
       "    <tr>\n",
       "      <th>0</th>\n",
       "      <td>0.0</td>\n",
       "      <td>13.261921</td>\n",
       "      <td>25.033333</td>\n",
       "      <td>413963145</td>\n",
       "      <td>-123.026415</td>\n",
       "      <td>44.877280</td>\n",
       "    </tr>\n",
       "    <tr>\n",
       "      <th>1</th>\n",
       "      <td>0.0</td>\n",
       "      <td>8.260506</td>\n",
       "      <td>12.466667</td>\n",
       "      <td>244210043</td>\n",
       "      <td>-123.150157</td>\n",
       "      <td>44.933511</td>\n",
       "    </tr>\n",
       "    <tr>\n",
       "      <th>2</th>\n",
       "      <td>1.0</td>\n",
       "      <td>2.013863</td>\n",
       "      <td>8.750000</td>\n",
       "      <td>244210043</td>\n",
       "      <td>-123.312642</td>\n",
       "      <td>44.929472</td>\n",
       "    </tr>\n",
       "    <tr>\n",
       "      <th>3</th>\n",
       "      <td>2.0</td>\n",
       "      <td>0.547428</td>\n",
       "      <td>7.516667</td>\n",
       "      <td>244210043</td>\n",
       "      <td>-123.308010</td>\n",
       "      <td>44.929900</td>\n",
       "    </tr>\n",
       "    <tr>\n",
       "      <th>4</th>\n",
       "      <td>3.0</td>\n",
       "      <td>0.133595</td>\n",
       "      <td>3.100000</td>\n",
       "      <td>244210043</td>\n",
       "      <td>-123.315767</td>\n",
       "      <td>44.922983</td>\n",
       "    </tr>\n",
       "  </tbody>\n",
       "</table>\n",
       "</div>"
      ],
      "text/plain": [
       "   index  travel_distance_miles  travel_time_minutes  store_locnum  \\\n",
       "0    0.0              13.261921            25.033333     413963145   \n",
       "1    0.0               8.260506            12.466667     244210043   \n",
       "2    1.0               2.013863             8.750000     244210043   \n",
       "3    2.0               0.547428             7.516667     244210043   \n",
       "4    3.0               0.133595             3.100000     244210043   \n",
       "\n",
       "      coord_x    coord_y  \n",
       "0 -123.026415  44.877280  \n",
       "1 -123.150157  44.933511  \n",
       "2 -123.312642  44.929472  \n",
       "3 -123.308010  44.929900  \n",
       "4 -123.315767  44.922983  "
      ]
     },
     "execution_count": 29,
     "metadata": {},
     "output_type": "execute_result"
    }
   ],
   "source": [
    "out_df = raw_trips_df[['travel_distance_miles', 'travel_time_minutes', 'store_locnum', 'coord_x', 'coord_y']].reset_index()\n",
    "out_df.head()"
   ]
  },
  {
   "cell_type": "code",
   "execution_count": 30,
   "metadata": {},
   "outputs": [],
   "source": [
    "out_df.to_csv(dir_raw/'trips.csv')"
   ]
  },
  {
   "cell_type": "code",
   "execution_count": null,
   "metadata": {},
   "outputs": [],
   "source": []
  }
 ],
 "metadata": {
  "kernelspec": {
   "display_name": "Python 3",
   "language": "python",
   "name": "python3"
  },
  "language_info": {
   "codemirror_mode": {
    "name": "ipython",
    "version": 3
   },
   "file_extension": ".py",
   "mimetype": "text/x-python",
   "name": "python",
   "nbconvert_exporter": "python",
   "pygments_lexer": "ipython3",
   "version": "3.6.10"
  }
 },
 "nbformat": 4,
 "nbformat_minor": 4
}
