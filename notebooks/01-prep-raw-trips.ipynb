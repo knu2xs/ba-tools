{
 "cells": [
  {
   "cell_type": "code",
   "execution_count": 1,
   "metadata": {},
   "outputs": [],
   "source": [
    "import importlib\n",
    "import os\n",
    "from pathlib import Path\n",
    "import sys\n",
    "\n",
    "from arcgis.features import GeoAccessor, GeoSeriesAccessor\n",
    "from arcgis.gis import GIS\n",
    "from dotenv import load_dotenv, find_dotenv\n",
    "import pandas as pd\n",
    "import swifter\n",
    "\n",
    "# import arcpy if available\n",
    "if importlib.util.find_spec(\"arcpy\") is not None:\n",
    "    import arcpy"
   ]
  },
  {
   "cell_type": "code",
   "execution_count": 2,
   "metadata": {},
   "outputs": [],
   "source": [
    "# load environment variables from .env\n",
    "load_dotenv(find_dotenv())\n",
    "\n",
    "# paths to common data locations - NOTE: to convert any path to a raw string, simply use str(path_instance)\n",
    "project_parent = Path('./').absolute().parent\n",
    "\n",
    "data_dir = project_parent/'data'\n",
    "\n",
    "dir_raw = data_dir/'raw'\n",
    "dir_test = data_dir/'test'\n",
    "dir_int = data_dir/'interim'\n",
    "\n",
    "gdb_int = dir_int/'interim.gdb'\n",
    "gdb_test = dir_test/'test.gdb'\n",
    "\n",
    "# load the \"autoreload\" extension so that code can change, & always reload modules so that as you change code in src, it gets loaded\n",
    "%load_ext autoreload\n",
    "%autoreload 2\n",
    "\n",
    "# import the project package from the project package path\n",
    "sys.path.append(str(project_parent/'src'))\n",
    "import ba_tools"
   ]
  },
  {
   "cell_type": "code",
   "execution_count": 59,
   "metadata": {},
   "outputs": [
    {
     "data": {
      "text/plain": [
       "True"
      ]
     },
     "execution_count": 59,
     "metadata": {},
     "output_type": "execute_result"
    }
   ],
   "source": [
    "raw_trips_tbl = dir_raw/'raw_trips.csv'\n",
    "trips_x = 'coord_x'\n",
    "trips_y = 'coord_y'\n",
    "origin_id_field = 'ID'\n",
    "customer_destination_id_field = 'store_locn'\n",
    "customer_keep_field_prefix = 'travel_'\n",
    "customer_keep_field_suffix = None\n",
    "customer_keep_fields = None\n",
    "\n",
    "block_group_fc = gdb_test/'block_groups'\n",
    "\n",
    "arcpy.Exists(block_group_fc)"
   ]
  },
  {
   "cell_type": "code",
   "execution_count": 4,
   "metadata": {},
   "outputs": [
    {
     "data": {
      "text/html": [
       "<div>\n",
       "<style scoped>\n",
       "    .dataframe tbody tr th:only-of-type {\n",
       "        vertical-align: middle;\n",
       "    }\n",
       "\n",
       "    .dataframe tbody tr th {\n",
       "        vertical-align: top;\n",
       "    }\n",
       "\n",
       "    .dataframe thead th {\n",
       "        text-align: right;\n",
       "    }\n",
       "</style>\n",
       "<table border=\"1\" class=\"dataframe\">\n",
       "  <thead>\n",
       "    <tr style=\"text-align: right;\">\n",
       "      <th></th>\n",
       "      <th>travel_distance_miles</th>\n",
       "      <th>travel_time_minutes</th>\n",
       "      <th>store_id</th>\n",
       "      <th>coord_x</th>\n",
       "      <th>coord_y</th>\n",
       "    </tr>\n",
       "  </thead>\n",
       "  <tbody>\n",
       "    <tr>\n",
       "      <th>0</th>\n",
       "      <td>3.123011</td>\n",
       "      <td>22.833333</td>\n",
       "      <td>724622491</td>\n",
       "      <td>-122.727474</td>\n",
       "      <td>45.502023</td>\n",
       "    </tr>\n",
       "    <tr>\n",
       "      <th>1</th>\n",
       "      <td>6.095650</td>\n",
       "      <td>21.133333</td>\n",
       "      <td>417755893</td>\n",
       "      <td>-122.788712</td>\n",
       "      <td>45.491919</td>\n",
       "    </tr>\n",
       "    <tr>\n",
       "      <th>2</th>\n",
       "      <td>2.368666</td>\n",
       "      <td>8.000000</td>\n",
       "      <td>637497868</td>\n",
       "      <td>-122.802347</td>\n",
       "      <td>45.379363</td>\n",
       "    </tr>\n",
       "    <tr>\n",
       "      <th>3</th>\n",
       "      <td>10.198562</td>\n",
       "      <td>15.166667</td>\n",
       "      <td>724624345</td>\n",
       "      <td>-122.743871</td>\n",
       "      <td>45.400648</td>\n",
       "    </tr>\n",
       "    <tr>\n",
       "      <th>4</th>\n",
       "      <td>1.986523</td>\n",
       "      <td>12.216667</td>\n",
       "      <td>257782771</td>\n",
       "      <td>-122.703216</td>\n",
       "      <td>45.433386</td>\n",
       "    </tr>\n",
       "  </tbody>\n",
       "</table>\n",
       "</div>"
      ],
      "text/plain": [
       "   travel_distance_miles  travel_time_minutes   store_id     coord_x  \\\n",
       "0               3.123011            22.833333  724622491 -122.727474   \n",
       "1               6.095650            21.133333  417755893 -122.788712   \n",
       "2               2.368666             8.000000  637497868 -122.802347   \n",
       "3              10.198562            15.166667  724624345 -122.743871   \n",
       "4               1.986523            12.216667  257782771 -122.703216   \n",
       "\n",
       "     coord_y  \n",
       "0  45.502023  \n",
       "1  45.491919  \n",
       "2  45.379363  \n",
       "3  45.400648  \n",
       "4  45.433386  "
      ]
     },
     "execution_count": 4,
     "metadata": {},
     "output_type": "execute_result"
    }
   ],
   "source": [
    "raw_trips_df = pd.read_csv(raw_trips_tbl).drop(columns=['OBJECTID2'])\n",
    "raw_trips_df.columns = ['travel_distance_miles', 'travel_time_minutes', 'store_id', 'coord_x', 'coord_y']\n",
    "\n",
    "raw_trips_df.head()"
   ]
  },
  {
   "cell_type": "code",
   "execution_count": 5,
   "metadata": {},
   "outputs": [],
   "source": [
    "raw_trips_df.store_id = raw_trips_df.store_id.astype(str)"
   ]
  },
  {
   "cell_type": "code",
   "execution_count": 6,
   "metadata": {},
   "outputs": [],
   "source": [
    "raw_trips_df.to_parquet(dir_raw/'trips.parquet')\n",
    "raw_trips_df.to_csv(dir_raw/'trips.csv')"
   ]
  },
  {
   "cell_type": "code",
   "execution_count": 36,
   "metadata": {},
   "outputs": [
    {
     "data": {
      "text/plain": [
       "True"
      ]
     },
     "execution_count": 36,
     "metadata": {},
     "output_type": "execute_result"
    }
   ],
   "source": [
    "join_fc = Path(arcpy.env.scratchGDB)/'join_pts'\n",
    "\n",
    "arcpy.Exists(str(join_fc))"
   ]
  },
  {
   "cell_type": "code",
   "execution_count": 60,
   "metadata": {},
   "outputs": [
    {
     "data": {
      "text/plain": [
       "['ID', 'store_locn', 'travel_dis', 'travel_tim']"
      ]
     },
     "execution_count": 60,
     "metadata": {},
     "output_type": "execute_result"
    }
   ],
   "source": [
    "keep_cols = [origin_id_field, customer_destination_id_field]\n",
    "join_cols = [f.name for f in arcpy.ListFields(join_fc)]\n",
    "if customer_keep_field_prefix:\n",
    "    keep_cols = keep_cols + [c for c in join_cols if c.startswith(customer_keep_field_prefix)]\n",
    "if customer_keep_field_suffix:\n",
    "    keep_cols = keep_cols + [c for c in join_cols if c.endswith(customer_keep_field_suffix)]\n",
    "if customer_keep_fields:\n",
    "    keep_cols = keep_cols + customer_keep_fields\n",
    "    \n",
    "keep_cols"
   ]
  },
  {
   "cell_type": "code",
   "execution_count": 61,
   "metadata": {},
   "outputs": [
    {
     "data": {
      "text/html": [
       "<div>\n",
       "<style scoped>\n",
       "    .dataframe tbody tr th:only-of-type {\n",
       "        vertical-align: middle;\n",
       "    }\n",
       "\n",
       "    .dataframe tbody tr th {\n",
       "        vertical-align: top;\n",
       "    }\n",
       "\n",
       "    .dataframe thead th {\n",
       "        text-align: right;\n",
       "    }\n",
       "</style>\n",
       "<table border=\"1\" class=\"dataframe\">\n",
       "  <thead>\n",
       "    <tr style=\"text-align: right;\">\n",
       "      <th></th>\n",
       "      <th>ID</th>\n",
       "      <th>store_locn</th>\n",
       "      <th>travel_dis</th>\n",
       "      <th>travel_tim</th>\n",
       "    </tr>\n",
       "  </thead>\n",
       "  <tbody>\n",
       "  </tbody>\n",
       "</table>\n",
       "</div>"
      ],
      "text/plain": [
       "Empty DataFrame\n",
       "Columns: [ID, store_locn, travel_dis, travel_tim]\n",
       "Index: []"
      ]
     },
     "execution_count": 61,
     "metadata": {},
     "output_type": "execute_result"
    }
   ],
   "source": [
    "join_df = pd.DataFrame(columns=keep_cols)\n",
    "\n",
    "join_df"
   ]
  },
  {
   "cell_type": "code",
   "execution_count": 62,
   "metadata": {},
   "outputs": [
    {
     "data": {
      "text/plain": [
       "306470"
      ]
     },
     "execution_count": 62,
     "metadata": {},
     "output_type": "execute_result"
    }
   ],
   "source": [
    "from tqdm.notebook import tqdm\n",
    "\n",
    "cnt = int(arcpy.management.GetCount(str(join_fc))[0])\n",
    "cnt"
   ]
  },
  {
   "cell_type": "code",
   "execution_count": 64,
   "metadata": {},
   "outputs": [
    {
     "data": {
      "application/vnd.jupyter.widget-view+json": {
       "model_id": "41308692ef6443f6aed679e7c82afde2",
       "version_major": 2,
       "version_minor": 0
      },
      "text/plain": [
       "HBox(children=(FloatProgress(value=0.0, max=306470.0), HTML(value='')))"
      ]
     },
     "metadata": {},
     "output_type": "display_data"
    },
    {
     "name": "stdout",
     "output_type": "stream",
     "text": [
      "\n",
      "Wall time: 3.31 s\n"
     ]
    }
   ],
   "source": [
    "%%time\n",
    "\n",
    "val_lst = [r for r in tqdm(arcpy.da.SearchCursor(str(join_fc), keep_cols), total=cnt)]"
   ]
  },
  {
   "cell_type": "code",
   "execution_count": 66,
   "metadata": {},
   "outputs": [
    {
     "name": "stdout",
     "output_type": "stream",
     "text": [
      "Wall time: 108 ms\n"
     ]
    }
   ],
   "source": [
    "%%time\n",
    "\n",
    "df = pd.DataFrame(val_lst, columns=keep_cols)"
   ]
  },
  {
   "cell_type": "code",
   "execution_count": 57,
   "metadata": {},
   "outputs": [
    {
     "data": {
      "text/html": [
       "<div>\n",
       "<style scoped>\n",
       "    .dataframe tbody tr th:only-of-type {\n",
       "        vertical-align: middle;\n",
       "    }\n",
       "\n",
       "    .dataframe tbody tr th {\n",
       "        vertical-align: top;\n",
       "    }\n",
       "\n",
       "    .dataframe thead th {\n",
       "        text-align: right;\n",
       "    }\n",
       "</style>\n",
       "<table border=\"1\" class=\"dataframe\">\n",
       "  <thead>\n",
       "    <tr style=\"text-align: right;\">\n",
       "      <th></th>\n",
       "      <th>ID</th>\n",
       "      <th>store_locn</th>\n",
       "    </tr>\n",
       "  </thead>\n",
       "  <tbody>\n",
       "    <tr>\n",
       "      <th>0</th>\n",
       "      <td>410670313002</td>\n",
       "      <td>236918645</td>\n",
       "    </tr>\n",
       "    <tr>\n",
       "      <th>1</th>\n",
       "      <td>410670314041</td>\n",
       "      <td>970016523</td>\n",
       "    </tr>\n",
       "    <tr>\n",
       "      <th>2</th>\n",
       "      <td>410510068021</td>\n",
       "      <td>461738742</td>\n",
       "    </tr>\n",
       "    <tr>\n",
       "      <th>3</th>\n",
       "      <td>410670309003</td>\n",
       "      <td>268703220</td>\n",
       "    </tr>\n",
       "    <tr>\n",
       "      <th>4</th>\n",
       "      <td>410670313003</td>\n",
       "      <td>655960243</td>\n",
       "    </tr>\n",
       "  </tbody>\n",
       "</table>\n",
       "</div>"
      ],
      "text/plain": [
       "             ID  store_locn\n",
       "0  410670313002   236918645\n",
       "1  410670314041   970016523\n",
       "2  410510068021   461738742\n",
       "3  410670309003   268703220\n",
       "4  410670313003   655960243"
      ]
     },
     "execution_count": 57,
     "metadata": {},
     "output_type": "execute_result"
    }
   ],
   "source": [
    "df.head()"
   ]
  },
  {
   "cell_type": "code",
   "execution_count": null,
   "metadata": {},
   "outputs": [],
   "source": []
  }
 ],
 "metadata": {
  "kernelspec": {
   "display_name": "Python 3",
   "language": "python",
   "name": "python3"
  },
  "language_info": {
   "codemirror_mode": {
    "name": "ipython",
    "version": 3
   },
   "file_extension": ".py",
   "mimetype": "text/x-python",
   "name": "python",
   "nbconvert_exporter": "python",
   "pygments_lexer": "ipython3",
   "version": "3.6.10"
  }
 },
 "nbformat": 4,
 "nbformat_minor": 4
}
